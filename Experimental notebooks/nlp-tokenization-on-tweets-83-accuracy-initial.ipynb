{
 "cells": [
  {
   "cell_type": "markdown",
   "metadata": {},
   "source": [
    "### This notebook will focus completely on text classification based on Natural Language Processing.\n",
    "\n",
    "##### It's not yet completed, let's understand it first."
   ]
  },
  {
   "cell_type": "code",
   "execution_count": 33,
   "metadata": {
    "execution": {
     "iopub.execute_input": "2022-04-26T16:19:37.308662Z",
     "iopub.status.busy": "2022-04-26T16:19:37.308394Z",
     "iopub.status.idle": "2022-04-26T16:19:37.321738Z",
     "shell.execute_reply": "2022-04-26T16:19:37.320809Z",
     "shell.execute_reply.started": "2022-04-26T16:19:37.308634Z"
    }
   },
   "outputs": [
    {
     "name": "stdout",
     "output_type": "stream",
     "text": [
      "/kaggle/input/sentiment140/training.1600000.processed.noemoticon.csv\n"
     ]
    }
   ],
   "source": [
    "import numpy as np # linear algebra\n",
    "import pandas as pd # data processing, CSV file I/O (e.g. pd.read_csv)\n",
    "import matplotlib.pyplot as plt\n",
    "\n",
    "\n",
    "import os\n",
    "for dirname, _, filenames in os.walk('/kaggle/input'):\n",
    "    for filename in filenames:\n",
    "        print(os.path.join(dirname, filename))\n",
    "        \n",
    "from tensorflow.keras.preprocessing.text import Tokenizer\n",
    "from tensorflow.keras.preprocessing.sequence import pad_sequences\n",
    "import tensorflow as tf\n",
    "import random"
   ]
  },
  {
   "cell_type": "markdown",
   "metadata": {},
   "source": [
    "> ## Data AnalysisTokenizer"
   ]
  },
  {
   "cell_type": "code",
   "execution_count": 3,
   "metadata": {
    "execution": {
     "iopub.execute_input": "2022-04-26T16:08:45.556841Z",
     "iopub.status.busy": "2022-04-26T16:08:45.556592Z",
     "iopub.status.idle": "2022-04-26T16:08:51.008726Z",
     "shell.execute_reply": "2022-04-26T16:08:51.007965Z",
     "shell.execute_reply.started": "2022-04-26T16:08:45.556805Z"
    }
   },
   "outputs": [
    {
     "data": {
      "text/html": [
       "<div>\n",
       "<style scoped>\n",
       "    .dataframe tbody tr th:only-of-type {\n",
       "        vertical-align: middle;\n",
       "    }\n",
       "\n",
       "    .dataframe tbody tr th {\n",
       "        vertical-align: top;\n",
       "    }\n",
       "\n",
       "    .dataframe thead th {\n",
       "        text-align: right;\n",
       "    }\n",
       "</style>\n",
       "<table border=\"1\" class=\"dataframe\">\n",
       "  <thead>\n",
       "    <tr style=\"text-align: right;\">\n",
       "      <th></th>\n",
       "      <th>0</th>\n",
       "      <th>1467810369</th>\n",
       "      <th>Mon Apr 06 22:19:45 PDT 2009</th>\n",
       "      <th>NO_QUERY</th>\n",
       "      <th>_TheSpecialOne_</th>\n",
       "      <th>@switchfoot http://twitpic.com/2y1zl - Awww, that's a bummer.  You shoulda got David Carr of Third Day to do it. ;D</th>\n",
       "    </tr>\n",
       "  </thead>\n",
       "  <tbody>\n",
       "    <tr>\n",
       "      <th>0</th>\n",
       "      <td>0</td>\n",
       "      <td>1467810672</td>\n",
       "      <td>Mon Apr 06 22:19:49 PDT 2009</td>\n",
       "      <td>NO_QUERY</td>\n",
       "      <td>scotthamilton</td>\n",
       "      <td>is upset that he can't update his Facebook by ...</td>\n",
       "    </tr>\n",
       "    <tr>\n",
       "      <th>1</th>\n",
       "      <td>0</td>\n",
       "      <td>1467810917</td>\n",
       "      <td>Mon Apr 06 22:19:53 PDT 2009</td>\n",
       "      <td>NO_QUERY</td>\n",
       "      <td>mattycus</td>\n",
       "      <td>@Kenichan I dived many times for the ball. Man...</td>\n",
       "    </tr>\n",
       "    <tr>\n",
       "      <th>2</th>\n",
       "      <td>0</td>\n",
       "      <td>1467811184</td>\n",
       "      <td>Mon Apr 06 22:19:57 PDT 2009</td>\n",
       "      <td>NO_QUERY</td>\n",
       "      <td>ElleCTF</td>\n",
       "      <td>my whole body feels itchy and like its on fire</td>\n",
       "    </tr>\n",
       "    <tr>\n",
       "      <th>3</th>\n",
       "      <td>0</td>\n",
       "      <td>1467811193</td>\n",
       "      <td>Mon Apr 06 22:19:57 PDT 2009</td>\n",
       "      <td>NO_QUERY</td>\n",
       "      <td>Karoli</td>\n",
       "      <td>@nationwideclass no, it's not behaving at all....</td>\n",
       "    </tr>\n",
       "    <tr>\n",
       "      <th>4</th>\n",
       "      <td>0</td>\n",
       "      <td>1467811372</td>\n",
       "      <td>Mon Apr 06 22:20:00 PDT 2009</td>\n",
       "      <td>NO_QUERY</td>\n",
       "      <td>joy_wolf</td>\n",
       "      <td>@Kwesidei not the whole crew</td>\n",
       "    </tr>\n",
       "  </tbody>\n",
       "</table>\n",
       "</div>"
      ],
      "text/plain": [
       "   0  1467810369  Mon Apr 06 22:19:45 PDT 2009  NO_QUERY _TheSpecialOne_  \\\n",
       "0  0  1467810672  Mon Apr 06 22:19:49 PDT 2009  NO_QUERY   scotthamilton   \n",
       "1  0  1467810917  Mon Apr 06 22:19:53 PDT 2009  NO_QUERY        mattycus   \n",
       "2  0  1467811184  Mon Apr 06 22:19:57 PDT 2009  NO_QUERY         ElleCTF   \n",
       "3  0  1467811193  Mon Apr 06 22:19:57 PDT 2009  NO_QUERY          Karoli   \n",
       "4  0  1467811372  Mon Apr 06 22:20:00 PDT 2009  NO_QUERY        joy_wolf   \n",
       "\n",
       "  @switchfoot http://twitpic.com/2y1zl - Awww, that's a bummer.  You shoulda got David Carr of Third Day to do it. ;D  \n",
       "0  is upset that he can't update his Facebook by ...                                                                   \n",
       "1  @Kenichan I dived many times for the ball. Man...                                                                   \n",
       "2    my whole body feels itchy and like its on fire                                                                    \n",
       "3  @nationwideclass no, it's not behaving at all....                                                                   \n",
       "4                      @Kwesidei not the whole crew                                                                    "
      ]
     },
     "execution_count": 3,
     "metadata": {},
     "output_type": "execute_result"
    }
   ],
   "source": [
    "data = pd.read_csv('../input/sentiment140/training.1600000.processed.noemoticon.csv',encoding=\"ISO-8859-1\")\n",
    "data.head()"
   ]
  },
  {
   "cell_type": "code",
   "execution_count": 4,
   "metadata": {
    "execution": {
     "iopub.execute_input": "2022-04-26T16:08:51.010086Z",
     "iopub.status.busy": "2022-04-26T16:08:51.009845Z",
     "iopub.status.idle": "2022-04-26T16:08:51.021538Z",
     "shell.execute_reply": "2022-04-26T16:08:51.020877Z",
     "shell.execute_reply.started": "2022-04-26T16:08:51.010042Z"
    }
   },
   "outputs": [
    {
     "data": {
      "text/html": [
       "<div>\n",
       "<style scoped>\n",
       "    .dataframe tbody tr th:only-of-type {\n",
       "        vertical-align: middle;\n",
       "    }\n",
       "\n",
       "    .dataframe tbody tr th {\n",
       "        vertical-align: top;\n",
       "    }\n",
       "\n",
       "    .dataframe thead th {\n",
       "        text-align: right;\n",
       "    }\n",
       "</style>\n",
       "<table border=\"1\" class=\"dataframe\">\n",
       "  <thead>\n",
       "    <tr style=\"text-align: right;\">\n",
       "      <th></th>\n",
       "      <th>target</th>\n",
       "      <th>ids</th>\n",
       "      <th>date</th>\n",
       "      <th>flag</th>\n",
       "      <th>user</th>\n",
       "      <th>tweet</th>\n",
       "    </tr>\n",
       "  </thead>\n",
       "  <tbody>\n",
       "    <tr>\n",
       "      <th>0</th>\n",
       "      <td>0</td>\n",
       "      <td>1467810672</td>\n",
       "      <td>Mon Apr 06 22:19:49 PDT 2009</td>\n",
       "      <td>NO_QUERY</td>\n",
       "      <td>scotthamilton</td>\n",
       "      <td>is upset that he can't update his Facebook by ...</td>\n",
       "    </tr>\n",
       "    <tr>\n",
       "      <th>1</th>\n",
       "      <td>0</td>\n",
       "      <td>1467810917</td>\n",
       "      <td>Mon Apr 06 22:19:53 PDT 2009</td>\n",
       "      <td>NO_QUERY</td>\n",
       "      <td>mattycus</td>\n",
       "      <td>@Kenichan I dived many times for the ball. Man...</td>\n",
       "    </tr>\n",
       "    <tr>\n",
       "      <th>2</th>\n",
       "      <td>0</td>\n",
       "      <td>1467811184</td>\n",
       "      <td>Mon Apr 06 22:19:57 PDT 2009</td>\n",
       "      <td>NO_QUERY</td>\n",
       "      <td>ElleCTF</td>\n",
       "      <td>my whole body feels itchy and like its on fire</td>\n",
       "    </tr>\n",
       "    <tr>\n",
       "      <th>3</th>\n",
       "      <td>0</td>\n",
       "      <td>1467811193</td>\n",
       "      <td>Mon Apr 06 22:19:57 PDT 2009</td>\n",
       "      <td>NO_QUERY</td>\n",
       "      <td>Karoli</td>\n",
       "      <td>@nationwideclass no, it's not behaving at all....</td>\n",
       "    </tr>\n",
       "    <tr>\n",
       "      <th>4</th>\n",
       "      <td>0</td>\n",
       "      <td>1467811372</td>\n",
       "      <td>Mon Apr 06 22:20:00 PDT 2009</td>\n",
       "      <td>NO_QUERY</td>\n",
       "      <td>joy_wolf</td>\n",
       "      <td>@Kwesidei not the whole crew</td>\n",
       "    </tr>\n",
       "  </tbody>\n",
       "</table>\n",
       "</div>"
      ],
      "text/plain": [
       "   target         ids                          date      flag           user  \\\n",
       "0       0  1467810672  Mon Apr 06 22:19:49 PDT 2009  NO_QUERY  scotthamilton   \n",
       "1       0  1467810917  Mon Apr 06 22:19:53 PDT 2009  NO_QUERY       mattycus   \n",
       "2       0  1467811184  Mon Apr 06 22:19:57 PDT 2009  NO_QUERY        ElleCTF   \n",
       "3       0  1467811193  Mon Apr 06 22:19:57 PDT 2009  NO_QUERY         Karoli   \n",
       "4       0  1467811372  Mon Apr 06 22:20:00 PDT 2009  NO_QUERY       joy_wolf   \n",
       "\n",
       "                                               tweet  \n",
       "0  is upset that he can't update his Facebook by ...  \n",
       "1  @Kenichan I dived many times for the ball. Man...  \n",
       "2    my whole body feels itchy and like its on fire   \n",
       "3  @nationwideclass no, it's not behaving at all....  \n",
       "4                      @Kwesidei not the whole crew   "
      ]
     },
     "execution_count": 4,
     "metadata": {},
     "output_type": "execute_result"
    }
   ],
   "source": [
    "data.columns = ['target', 'ids', 'date', 'flag', 'user', 'tweet']\n",
    "data.head()"
   ]
  },
  {
   "cell_type": "markdown",
   "metadata": {},
   "source": []
  },
  {
   "cell_type": "code",
   "execution_count": 5,
   "metadata": {
    "execution": {
     "iopub.execute_input": "2022-04-26T16:08:51.023745Z",
     "iopub.status.busy": "2022-04-26T16:08:51.023277Z",
     "iopub.status.idle": "2022-04-26T16:08:51.080669Z",
     "shell.execute_reply": "2022-04-26T16:08:51.079980Z",
     "shell.execute_reply.started": "2022-04-26T16:08:51.023708Z"
    }
   },
   "outputs": [
    {
     "data": {
      "text/html": [
       "<div>\n",
       "<style scoped>\n",
       "    .dataframe tbody tr th:only-of-type {\n",
       "        vertical-align: middle;\n",
       "    }\n",
       "\n",
       "    .dataframe tbody tr th {\n",
       "        vertical-align: top;\n",
       "    }\n",
       "\n",
       "    .dataframe thead th {\n",
       "        text-align: right;\n",
       "    }\n",
       "</style>\n",
       "<table border=\"1\" class=\"dataframe\">\n",
       "  <thead>\n",
       "    <tr style=\"text-align: right;\">\n",
       "      <th></th>\n",
       "      <th>target</th>\n",
       "      <th>ids</th>\n",
       "      <th>tweet</th>\n",
       "    </tr>\n",
       "  </thead>\n",
       "  <tbody>\n",
       "    <tr>\n",
       "      <th>0</th>\n",
       "      <td>0</td>\n",
       "      <td>1467810672</td>\n",
       "      <td>is upset that he can't update his Facebook by ...</td>\n",
       "    </tr>\n",
       "    <tr>\n",
       "      <th>1</th>\n",
       "      <td>0</td>\n",
       "      <td>1467810917</td>\n",
       "      <td>@Kenichan I dived many times for the ball. Man...</td>\n",
       "    </tr>\n",
       "    <tr>\n",
       "      <th>2</th>\n",
       "      <td>0</td>\n",
       "      <td>1467811184</td>\n",
       "      <td>my whole body feels itchy and like its on fire</td>\n",
       "    </tr>\n",
       "    <tr>\n",
       "      <th>3</th>\n",
       "      <td>0</td>\n",
       "      <td>1467811193</td>\n",
       "      <td>@nationwideclass no, it's not behaving at all....</td>\n",
       "    </tr>\n",
       "    <tr>\n",
       "      <th>4</th>\n",
       "      <td>0</td>\n",
       "      <td>1467811372</td>\n",
       "      <td>@Kwesidei not the whole crew</td>\n",
       "    </tr>\n",
       "  </tbody>\n",
       "</table>\n",
       "</div>"
      ],
      "text/plain": [
       "   target         ids                                              tweet\n",
       "0       0  1467810672  is upset that he can't update his Facebook by ...\n",
       "1       0  1467810917  @Kenichan I dived many times for the ball. Man...\n",
       "2       0  1467811184    my whole body feels itchy and like its on fire \n",
       "3       0  1467811193  @nationwideclass no, it's not behaving at all....\n",
       "4       0  1467811372                      @Kwesidei not the whole crew "
      ]
     },
     "execution_count": 5,
     "metadata": {},
     "output_type": "execute_result"
    }
   ],
   "source": [
    "# Dropping unnecessary columns\n",
    "\n",
    "data = data.drop(['date', 'flag', 'user'], axis=1)\n",
    "data.head()"
   ]
  },
  {
   "cell_type": "code",
   "execution_count": 6,
   "metadata": {
    "execution": {
     "iopub.execute_input": "2022-04-26T16:08:51.082331Z",
     "iopub.status.busy": "2022-04-26T16:08:51.082060Z",
     "iopub.status.idle": "2022-04-26T16:08:51.101459Z",
     "shell.execute_reply": "2022-04-26T16:08:51.100798Z",
     "shell.execute_reply.started": "2022-04-26T16:08:51.082296Z"
    }
   },
   "outputs": [
    {
     "data": {
      "text/plain": [
       "array([0, 4])"
      ]
     },
     "execution_count": 6,
     "metadata": {},
     "output_type": "execute_result"
    }
   ],
   "source": [
    "data.target.unique()"
   ]
  },
  {
   "cell_type": "code",
   "execution_count": 7,
   "metadata": {
    "execution": {
     "iopub.execute_input": "2022-04-26T16:08:51.104304Z",
     "iopub.status.busy": "2022-04-26T16:08:51.103950Z",
     "iopub.status.idle": "2022-04-26T16:08:51.271785Z",
     "shell.execute_reply": "2022-04-26T16:08:51.270964Z",
     "shell.execute_reply.started": "2022-04-26T16:08:51.104273Z"
    }
   },
   "outputs": [
    {
     "data": {
      "text/plain": [
       "0"
      ]
     },
     "execution_count": 7,
     "metadata": {},
     "output_type": "execute_result"
    }
   ],
   "source": [
    "#Let's check if there are any NULL values\n",
    "data.isnull().sum().sum()"
   ]
  },
  {
   "cell_type": "markdown",
   "metadata": {},
   "source": [
    "#### So there are 0 NULL values, and 0 is for -ve and 4 for +ve tweet."
   ]
  },
  {
   "cell_type": "markdown",
   "metadata": {},
   "source": [
    "> ## Preparing data"
   ]
  },
  {
   "cell_type": "code",
   "execution_count": 8,
   "metadata": {
    "execution": {
     "iopub.execute_input": "2022-04-26T16:08:55.221790Z",
     "iopub.status.busy": "2022-04-26T16:08:55.221527Z",
     "iopub.status.idle": "2022-04-26T16:08:55.230732Z",
     "shell.execute_reply": "2022-04-26T16:08:55.230040Z",
     "shell.execute_reply.started": "2022-04-26T16:08:55.221762Z"
    }
   },
   "outputs": [
    {
     "data": {
      "text/html": [
       "<div>\n",
       "<style scoped>\n",
       "    .dataframe tbody tr th:only-of-type {\n",
       "        vertical-align: middle;\n",
       "    }\n",
       "\n",
       "    .dataframe tbody tr th {\n",
       "        vertical-align: top;\n",
       "    }\n",
       "\n",
       "    .dataframe thead th {\n",
       "        text-align: right;\n",
       "    }\n",
       "</style>\n",
       "<table border=\"1\" class=\"dataframe\">\n",
       "  <thead>\n",
       "    <tr style=\"text-align: right;\">\n",
       "      <th></th>\n",
       "      <th>target</th>\n",
       "      <th>ids</th>\n",
       "      <th>tweet</th>\n",
       "    </tr>\n",
       "  </thead>\n",
       "  <tbody>\n",
       "    <tr>\n",
       "      <th>0</th>\n",
       "      <td>0</td>\n",
       "      <td>1467810672</td>\n",
       "      <td>is upset that he can't update his Facebook by ...</td>\n",
       "    </tr>\n",
       "    <tr>\n",
       "      <th>1</th>\n",
       "      <td>0</td>\n",
       "      <td>1467810917</td>\n",
       "      <td>@Kenichan I dived many times for the ball. Man...</td>\n",
       "    </tr>\n",
       "    <tr>\n",
       "      <th>2</th>\n",
       "      <td>0</td>\n",
       "      <td>1467811184</td>\n",
       "      <td>my whole body feels itchy and like its on fire</td>\n",
       "    </tr>\n",
       "    <tr>\n",
       "      <th>3</th>\n",
       "      <td>0</td>\n",
       "      <td>1467811193</td>\n",
       "      <td>@nationwideclass no, it's not behaving at all....</td>\n",
       "    </tr>\n",
       "    <tr>\n",
       "      <th>4</th>\n",
       "      <td>0</td>\n",
       "      <td>1467811372</td>\n",
       "      <td>@Kwesidei not the whole crew</td>\n",
       "    </tr>\n",
       "  </tbody>\n",
       "</table>\n",
       "</div>"
      ],
      "text/plain": [
       "   target         ids                                              tweet\n",
       "0       0  1467810672  is upset that he can't update his Facebook by ...\n",
       "1       0  1467810917  @Kenichan I dived many times for the ball. Man...\n",
       "2       0  1467811184    my whole body feels itchy and like its on fire \n",
       "3       0  1467811193  @nationwideclass no, it's not behaving at all....\n",
       "4       0  1467811372                      @Kwesidei not the whole crew "
      ]
     },
     "execution_count": 8,
     "metadata": {},
     "output_type": "execute_result"
    }
   ],
   "source": [
    "data.head()"
   ]
  },
  {
   "cell_type": "code",
   "execution_count": 9,
   "metadata": {
    "execution": {
     "iopub.execute_input": "2022-04-26T16:08:56.860377Z",
     "iopub.status.busy": "2022-04-26T16:08:56.859649Z",
     "iopub.status.idle": "2022-04-26T16:08:56.868108Z",
     "shell.execute_reply": "2022-04-26T16:08:56.867362Z",
     "shell.execute_reply.started": "2022-04-26T16:08:56.860336Z"
    }
   },
   "outputs": [
    {
     "data": {
      "text/plain": [
       "Index(['target', 'ids', 'tweet'], dtype='object')"
      ]
     },
     "execution_count": 9,
     "metadata": {},
     "output_type": "execute_result"
    }
   ],
   "source": [
    "data.columns"
   ]
  },
  {
   "cell_type": "code",
   "execution_count": 10,
   "metadata": {
    "execution": {
     "iopub.execute_input": "2022-04-26T16:08:59.237235Z",
     "iopub.status.busy": "2022-04-26T16:08:59.234888Z",
     "iopub.status.idle": "2022-04-26T16:08:59.241502Z",
     "shell.execute_reply": "2022-04-26T16:08:59.240694Z",
     "shell.execute_reply.started": "2022-04-26T16:08:59.237197Z"
    }
   },
   "outputs": [],
   "source": [
    "def get_tweets(dataset):\n",
    "    tweets = [x for x in dataset['tweet']]\n",
    "    labels = [x for x in dataset['target']]\n",
    "    return tweets, labels"
   ]
  },
  {
   "cell_type": "code",
   "execution_count": 11,
   "metadata": {
    "execution": {
     "iopub.execute_input": "2022-04-26T16:08:59.591901Z",
     "iopub.status.busy": "2022-04-26T16:08:59.591647Z",
     "iopub.status.idle": "2022-04-26T16:09:00.036915Z",
     "shell.execute_reply": "2022-04-26T16:09:00.036178Z",
     "shell.execute_reply.started": "2022-04-26T16:08:59.591871Z"
    }
   },
   "outputs": [],
   "source": [
    "tweets, labels = get_tweets(data)"
   ]
  },
  {
   "cell_type": "code",
   "execution_count": 12,
   "metadata": {
    "execution": {
     "iopub.execute_input": "2022-04-26T16:09:03.001785Z",
     "iopub.status.busy": "2022-04-26T16:09:03.001492Z",
     "iopub.status.idle": "2022-04-26T16:09:03.012950Z",
     "shell.execute_reply": "2022-04-26T16:09:03.012176Z",
     "shell.execute_reply.started": "2022-04-26T16:09:03.001751Z"
    }
   },
   "outputs": [
    {
     "data": {
      "text/plain": [
       "(\"is upset that he can't update his Facebook by texting it... and might cry as a result  School today also. Blah!\",\n",
       " 0)"
      ]
     },
     "execution_count": 12,
     "metadata": {},
     "output_type": "execute_result"
    }
   ],
   "source": [
    "tweets[0], labels[0]"
   ]
  },
  {
   "cell_type": "markdown",
   "metadata": {},
   "source": [
    "> ## Tokenizing"
   ]
  },
  {
   "cell_type": "code",
   "execution_count": 13,
   "metadata": {
    "execution": {
     "iopub.execute_input": "2022-04-26T16:09:04.572904Z",
     "iopub.status.busy": "2022-04-26T16:09:04.572654Z",
     "iopub.status.idle": "2022-04-26T16:09:36.648687Z",
     "shell.execute_reply": "2022-04-26T16:09:36.647833Z",
     "shell.execute_reply.started": "2022-04-26T16:09:04.572875Z"
    }
   },
   "outputs": [
    {
     "name": "stdout",
     "output_type": "stream",
     "text": [
      "[[9, 819, 18, 112, 70, 566, 194, 537, 127, 2098, 10, 7, 300, 552, 86, 5, 2400, 150, 41, 274, 1171]]\n"
     ]
    }
   ],
   "source": [
    "tokenizer = Tokenizer(num_words=10000, oov_token='<UNK>')\n",
    "\n",
    "tokenizer.fit_on_texts(tweets)\n",
    "\n",
    "print(tokenizer.texts_to_sequences([tweets[0]]))"
   ]
  },
  {
   "cell_type": "markdown",
   "metadata": {},
   "source": [
    "> ## Padding and Truncating"
   ]
  },
  {
   "cell_type": "markdown",
   "metadata": {},
   "source": [
    "1. Checking length of the tweets\n",
    "2. Creating padded sequences"
   ]
  },
  {
   "cell_type": "code",
   "execution_count": 16,
   "metadata": {
    "execution": {
     "iopub.execute_input": "2022-04-26T16:11:14.548067Z",
     "iopub.status.busy": "2022-04-26T16:11:14.547500Z",
     "iopub.status.idle": "2022-04-26T16:11:24.659600Z",
     "shell.execute_reply": "2022-04-26T16:11:24.658948Z",
     "shell.execute_reply.started": "2022-04-26T16:11:14.548016Z"
    }
   },
   "outputs": [
    {
     "data": {
      "image/png": "[encoded data removed]",
      "text/plain": [
       "<Figure size 432x288 with 1 Axes>"
      ]
     },
     "metadata": {
      "needs_background": "light"
     },
     "output_type": "display_data"
    }
   ],
   "source": [
    "lengths = [len(t.split(' ')) for t in tweets]\n",
    "\n",
    "plt.hist(lengths, bins=len(set(lengths)))\n",
    "plt.show()"
   ]
  },
  {
   "cell_type": "markdown",
   "metadata": {},
   "source": [
    "#### We can see that the maximum length is approx 35"
   ]
  },
  {
   "cell_type": "code",
   "execution_count": 18,
   "metadata": {
    "execution": {
     "iopub.execute_input": "2022-04-26T16:14:11.792182Z",
     "iopub.status.busy": "2022-04-26T16:14:11.791882Z",
     "iopub.status.idle": "2022-04-26T16:14:11.796883Z",
     "shell.execute_reply": "2022-04-26T16:14:11.795932Z",
     "shell.execute_reply.started": "2022-04-26T16:14:11.792143Z"
    }
   },
   "outputs": [],
   "source": [
    "def get_sequences(tokenizer, tweets):\n",
    "    sequences = tokenizer.texts_to_sequences(tweets)\n",
    "    padded_sequences = pad_sequences(sequences, truncating='post', maxlen=35, padding='post')\n",
    "    return padded_sequences"
   ]
  },
  {
   "cell_type": "code",
   "execution_count": 19,
   "metadata": {
    "execution": {
     "iopub.execute_input": "2022-04-26T16:14:19.246124Z",
     "iopub.status.busy": "2022-04-26T16:14:19.245571Z",
     "iopub.status.idle": "2022-04-26T16:14:54.659483Z",
     "shell.execute_reply": "2022-04-26T16:14:54.658744Z",
     "shell.execute_reply.started": "2022-04-26T16:14:19.246087Z"
    }
   },
   "outputs": [],
   "source": [
    "padded_train_sequences = get_sequences(tokenizer, tweets)"
   ]
  },
  {
   "cell_type": "code",
   "execution_count": 22,
   "metadata": {
    "execution": {
     "iopub.execute_input": "2022-04-26T16:15:24.507881Z",
     "iopub.status.busy": "2022-04-26T16:15:24.507626Z",
     "iopub.status.idle": "2022-04-26T16:15:24.514430Z",
     "shell.execute_reply": "2022-04-26T16:15:24.513719Z",
     "shell.execute_reply.started": "2022-04-26T16:15:24.507853Z"
    }
   },
   "outputs": [
    {
     "data": {
      "text/plain": [
       "(array([   9,  819,   18,  112,   70,  566,  194,  537,  127, 2098,   10,\n",
       "           7,  300,  552,   86,    5, 2400,  150,   41,  274, 1171,    0,\n",
       "           0,    0,    0,    0,    0,    0,    0,    0,    0,    0,    0,\n",
       "           0,    0], dtype=int32),\n",
       " array([   2,   21,  685, 6467,    6, 1944,    0,    0,    0,    0,    0,\n",
       "           0,    0,    0,    0,    0,    0,    0,    0,    0,    0,    0,\n",
       "           0,    0,    0,    0,    0,    0,    0,    0,    0,    0,    0,\n",
       "           0,    0], dtype=int32),\n",
       " array([  20,  186,    6,  634,   43, 1074, 1356,  301,    0,    0,    0,\n",
       "           0,    0,    0,    0,    0,    0,    0,    0,    0,    0,    0,\n",
       "           0,    0,    0,    0,    0,    0,    0,    0,    0,    0,    0,\n",
       "           0,    0], dtype=int32))"
      ]
     },
     "execution_count": 22,
     "metadata": {},
     "output_type": "execute_result"
    }
   ],
   "source": [
    "padded_train_sequences[0], padded_train_sequences[10], padded_train_sequences[1000]"
   ]
  },
  {
   "cell_type": "markdown",
   "metadata": {},
   "source": [
    "> ## Preparing the labels"
   ]
  },
  {
   "cell_type": "code",
   "execution_count": 23,
   "metadata": {
    "execution": {
     "iopub.execute_input": "2022-04-26T16:16:34.037030Z",
     "iopub.status.busy": "2022-04-26T16:16:34.036225Z",
     "iopub.status.idle": "2022-04-26T16:16:34.066088Z",
     "shell.execute_reply": "2022-04-26T16:16:34.065215Z",
     "shell.execute_reply.started": "2022-04-26T16:16:34.036982Z"
    }
   },
   "outputs": [
    {
     "name": "stdout",
     "output_type": "stream",
     "text": [
      "{0, 4}\n"
     ]
    }
   ],
   "source": [
    "classes = set(labels)\n",
    "print(classes)"
   ]
  },
  {
   "cell_type": "code",
   "execution_count": 26,
   "metadata": {
    "execution": {
     "iopub.execute_input": "2022-04-26T16:17:14.813550Z",
     "iopub.status.busy": "2022-04-26T16:17:14.813017Z",
     "iopub.status.idle": "2022-04-26T16:17:23.805248Z",
     "shell.execute_reply": "2022-04-26T16:17:23.804552Z",
     "shell.execute_reply.started": "2022-04-26T16:17:14.813513Z"
    }
   },
   "outputs": [
    {
     "data": {
      "image/png": "[encoded data removed]",
      "text/plain": [
       "<Figure size 432x288 with 1 Axes>"
      ]
     },
     "metadata": {
      "needs_background": "light"
     },
     "output_type": "display_data"
    }
   ],
   "source": [
    "plt.hist(labels, bins=4)\n",
    "plt.show()"
   ]
  },
  {
   "cell_type": "code",
   "execution_count": 27,
   "metadata": {
    "execution": {
     "iopub.execute_input": "2022-04-26T16:17:43.769300Z",
     "iopub.status.busy": "2022-04-26T16:17:43.768898Z",
     "iopub.status.idle": "2022-04-26T16:17:43.773781Z",
     "shell.execute_reply": "2022-04-26T16:17:43.773108Z",
     "shell.execute_reply.started": "2022-04-26T16:17:43.769261Z"
    }
   },
   "outputs": [],
   "source": [
    "classes_to_index = dict((c, i) for i, c in enumerate(classes))\n",
    "index_to_classes = dict((v, k) for k, v in classes_to_index.items())"
   ]
  },
  {
   "cell_type": "code",
   "execution_count": 28,
   "metadata": {
    "execution": {
     "iopub.execute_input": "2022-04-26T16:17:50.938623Z",
     "iopub.status.busy": "2022-04-26T16:17:50.938305Z",
     "iopub.status.idle": "2022-04-26T16:17:50.944538Z",
     "shell.execute_reply": "2022-04-26T16:17:50.943798Z",
     "shell.execute_reply.started": "2022-04-26T16:17:50.938575Z"
    }
   },
   "outputs": [
    {
     "data": {
      "text/plain": [
       "{0: 0, 4: 1}"
      ]
     },
     "execution_count": 28,
     "metadata": {},
     "output_type": "execute_result"
    }
   ],
   "source": [
    "classes_to_index"
   ]
  },
  {
   "cell_type": "code",
   "execution_count": 29,
   "metadata": {
    "execution": {
     "iopub.execute_input": "2022-04-26T16:17:58.434903Z",
     "iopub.status.busy": "2022-04-26T16:17:58.434652Z",
     "iopub.status.idle": "2022-04-26T16:17:58.440215Z",
     "shell.execute_reply": "2022-04-26T16:17:58.439240Z",
     "shell.execute_reply.started": "2022-04-26T16:17:58.434874Z"
    }
   },
   "outputs": [
    {
     "data": {
      "text/plain": [
       "{0: 0, 1: 4}"
      ]
     },
     "execution_count": 29,
     "metadata": {},
     "output_type": "execute_result"
    }
   ],
   "source": [
    "index_to_classes"
   ]
  },
  {
   "cell_type": "code",
   "execution_count": 30,
   "metadata": {
    "execution": {
     "iopub.execute_input": "2022-04-26T16:18:06.476829Z",
     "iopub.status.busy": "2022-04-26T16:18:06.476079Z",
     "iopub.status.idle": "2022-04-26T16:18:06.481231Z",
     "shell.execute_reply": "2022-04-26T16:18:06.480289Z",
     "shell.execute_reply.started": "2022-04-26T16:18:06.476790Z"
    }
   },
   "outputs": [],
   "source": [
    "names_to_ids = lambda labels: np.array([classes_to_index.get(x) for x in labels])"
   ]
  },
  {
   "cell_type": "code",
   "execution_count": 31,
   "metadata": {
    "execution": {
     "iopub.execute_input": "2022-04-26T16:18:13.321744Z",
     "iopub.status.busy": "2022-04-26T16:18:13.321485Z",
     "iopub.status.idle": "2022-04-26T16:18:13.624586Z",
     "shell.execute_reply": "2022-04-26T16:18:13.623821Z",
     "shell.execute_reply.started": "2022-04-26T16:18:13.321715Z"
    }
   },
   "outputs": [
    {
     "name": "stdout",
     "output_type": "stream",
     "text": [
      "0\n"
     ]
    }
   ],
   "source": [
    "train_labels = names_to_ids(labels)\n",
    "print(train_labels[0])"
   ]
  },
  {
   "cell_type": "markdown",
   "metadata": {},
   "source": [
    "> ## Creating the model"
   ]
  },
  {
   "cell_type": "markdown",
   "metadata": {},
   "source": [
    "1. Creating the model\n",
    "2. Compiling the model"
   ]
  },
  {
   "cell_type": "code",
   "execution_count": 34,
   "metadata": {
    "execution": {
     "iopub.execute_input": "2022-04-26T16:19:40.727633Z",
     "iopub.status.busy": "2022-04-26T16:19:40.726964Z",
     "iopub.status.idle": "2022-04-26T16:19:43.911079Z",
     "shell.execute_reply": "2022-04-26T16:19:43.910219Z",
     "shell.execute_reply.started": "2022-04-26T16:19:40.727581Z"
    }
   },
   "outputs": [
    {
     "name": "stderr",
     "output_type": "stream",
     "text": [
      "2022-04-26 16:19:40.919655: I tensorflow/stream_executor/cuda/cuda_gpu_executor.cc:937] successful NUMA node read from SysFS had negative value (-1), but there must be at least one NUMA node, so returning NUMA node zero\n",
      "2022-04-26 16:19:41.014104: I tensorflow/stream_executor/cuda/cuda_gpu_executor.cc:937] successful NUMA node read from SysFS had negative value (-1), but there must be at least one NUMA node, so returning NUMA node zero\n",
      "2022-04-26 16:19:41.015226: I tensorflow/stream_executor/cuda/cuda_gpu_executor.cc:937] successful NUMA node read from SysFS had negative value (-1), but there must be at least one NUMA node, so returning NUMA node zero\n",
      "2022-04-26 16:19:41.017646: I tensorflow/core/platform/cpu_feature_guard.cc:142] This TensorFlow binary is optimized with oneAPI Deep Neural Network Library (oneDNN) to use the following CPU instructions in performance-critical operations:  AVX2 AVX512F FMA\n",
      "To enable them in other operations, rebuild TensorFlow with the appropriate compiler flags.\n",
      "2022-04-26 16:19:41.018824: I tensorflow/stream_executor/cuda/cuda_gpu_executor.cc:937] successful NUMA node read from SysFS had negative value (-1), but there must be at least one NUMA node, so returning NUMA node zero\n",
      "2022-04-26 16:19:41.019872: I tensorflow/stream_executor/cuda/cuda_gpu_executor.cc:937] successful NUMA node read from SysFS had negative value (-1), but there must be at least one NUMA node, so returning NUMA node zero\n",
      "2022-04-26 16:19:41.020895: I tensorflow/stream_executor/cuda/cuda_gpu_executor.cc:937] successful NUMA node read from SysFS had negative value (-1), but there must be at least one NUMA node, so returning NUMA node zero\n",
      "2022-04-26 16:19:42.712555: I tensorflow/stream_executor/cuda/cuda_gpu_executor.cc:937] successful NUMA node read from SysFS had negative value (-1), but there must be at least one NUMA node, so returning NUMA node zero\n",
      "2022-04-26 16:19:42.713359: I tensorflow/stream_executor/cuda/cuda_gpu_executor.cc:937] successful NUMA node read from SysFS had negative value (-1), but there must be at least one NUMA node, so returning NUMA node zero\n",
      "2022-04-26 16:19:42.714000: I tensorflow/stream_executor/cuda/cuda_gpu_executor.cc:937] successful NUMA node read from SysFS had negative value (-1), but there must be at least one NUMA node, so returning NUMA node zero\n",
      "2022-04-26 16:19:42.714650: I tensorflow/core/common_runtime/gpu/gpu_device.cc:1510] Created device /job:localhost/replica:0/task:0/device:GPU:0 with 15403 MB memory:  -> device: 0, name: Tesla P100-PCIE-16GB, pci bus id: 0000:00:04.0, compute capability: 6.0\n"
     ]
    },
    {
     "name": "stdout",
     "output_type": "stream",
     "text": [
      "Model: \"sequential\"\n",
      "_________________________________________________________________\n",
      "Layer (type)                 Output Shape              Param #   \n",
      "=================================================================\n",
      "embedding (Embedding)        (None, 50, 16)            160000    \n",
      "_________________________________________________________________\n",
      "bidirectional (Bidirectional (None, 50, 40)            5920      \n",
      "_________________________________________________________________\n",
      "bidirectional_1 (Bidirection (None, 40)                9760      \n",
      "_________________________________________________________________\n",
      "dense (Dense)                (None, 6)                 246       \n",
      "=================================================================\n",
      "Total params: 175,926\n",
      "Trainable params: 175,926\n",
      "Non-trainable params: 0\n",
      "_________________________________________________________________\n"
     ]
    }
   ],
   "source": [
    "model = tf.keras.models.Sequential([\n",
    "    tf.keras.layers.Embedding(10000, 16, input_length=50),\n",
    "    tf.keras.layers.Bidirectional(tf.keras.layers.LSTM(20, return_sequences=True)),\n",
    "    tf.keras.layers.Bidirectional(tf.keras.layers.LSTM(20)),\n",
    "    tf.keras.layers.Dense(6, activation='softmax')\n",
    "])\n",
    "\n",
    "model.compile(\n",
    "    loss='sparse_categorical_crossentropy',\n",
    "    optimizer='adam',\n",
    "    metrics=['accuracy']\n",
    ")\n",
    "\n",
    "model.summary()"
   ]
  },
  {
   "cell_type": "markdown",
   "metadata": {},
   "source": [
    "> ## Training the model"
   ]
  },
  {
   "cell_type": "code",
   "execution_count": null,
   "metadata": {
    "execution": {
     "iopub.execute_input": "2022-04-26T16:23:42.854053Z",
     "iopub.status.busy": "2022-04-26T16:23:42.853326Z"
    }
   },
   "outputs": [
    {
     "name": "stdout",
     "output_type": "stream",
     "text": [
      "Epoch 1/2\n",
      "50000/50000 [==============================] - 499s 10ms/step - loss: 0.3949 - accuracy: 0.8201\n",
      "Epoch 2/2\n",
      "23827/50000 [=============>................] - ETA: 4:20 - loss: 0.3734 - accuracy: 0.8319"
     ]
    }
   ],
   "source": [
    "h = model.fit(\n",
    "    padded_train_sequences, train_labels,\n",
    "    epochs=2,\n",
    "    callbacks=[\n",
    "        tf.keras.callbacks.EarlyStopping(monitor='accuracy', patience=2)\n",
    "    ]\n",
    ")"
   ]
  },
  {
   "cell_type": "markdown",
   "metadata": {},
   "source": [
    "> ## Evaluating the model"
   ]
  },
  {
   "cell_type": "code",
   "execution_count": null,
   "metadata": {},
   "outputs": [],
   "source": []
  }
 ],
 "metadata": {
  "kernelspec": {
   "display_name": "Python 3",
   "language": "python",
   "name": "python3"
  },
  "language_info": {
   "codemirror_mode": {
    "name": "ipython",
    "version": 3
   },
   "file_extension": ".py",
   "mimetype": "text/x-python",
   "name": "python",
   "nbconvert_exporter": "python",
   "pygments_lexer": "ipython3",
   "version": "3.9.5"
  }
 },
 "nbformat": 4,
 "nbformat_minor": 4
}
