{
 "cells": [
  {
   "cell_type": "code",
   "execution_count": 1,
   "id": "d78af11b",
   "metadata": {},
   "outputs": [
    {
     "name": "stderr",
     "output_type": "stream",
     "text": [
      "Backing off send_request(...) for 23.8s (requests.exceptions.ConnectionError: HTTPSConnectionPool(host='api.segment.io', port=443): Max retries exceeded with url: /v1/batch (Caused by NewConnectionError('<urllib3.connection.HTTPSConnection object at 0x000001CAA9977D00>: Failed to establish a new connection: [Errno 11001] getaddrinfo failed')))\n"
     ]
    }
   ],
   "source": [
    "# Imports\n",
    "import random\n",
    "import numpy as np \n",
    "import pandas as pd\n",
    "import tensorflow as tf\n",
    "from tensorflow import keras\n",
    "import matplotlib.pyplot as plt\n",
    "from tensorflow.keras import layers\n",
    "from sklearn.model_selection import StratifiedShuffleSplit\n",
    "from sklearn.model_selection import train_test_split"
   ]
  },
  {
   "cell_type": "markdown",
   "id": "a33becea",
   "metadata": {},
   "source": [
    "## Data Prepation"
   ]
  },
  {
   "cell_type": "code",
   "execution_count": 2,
   "id": "0d8b8138",
   "metadata": {},
   "outputs": [
    {
     "data": {
      "text/html": [
       "<div><div id=b9aa55f6-af07-4849-9caf-dc4e0aa3adfd style=\"display:none; background-color:#9D6CFF; color:white; width:200px; height:30px; padding-left:5px; border-radius:4px; flex-direction:row; justify-content:space-around; align-items:center;\" onmouseover=\"this.style.backgroundColor='#BA9BF8'\" onmouseout=\"this.style.backgroundColor='#9D6CFF'\" onclick=\"window.commands?.execute('create-mitosheet-from-dataframe-output');\">See Full Dataframe in Mito</div> <script> if (window.commands.hasCommand('create-mitosheet-from-dataframe-output')) document.getElementById('b9aa55f6-af07-4849-9caf-dc4e0aa3adfd').style.display = 'flex' </script> <table border=\"1\" class=\"dataframe\">\n",
       "  <thead>\n",
       "    <tr style=\"text-align: right;\">\n",
       "      <th></th>\n",
       "      <th>0</th>\n",
       "      <th>1467810369</th>\n",
       "      <th>Mon Apr 06 22:19:45 PDT 2009</th>\n",
       "      <th>NO_QUERY</th>\n",
       "      <th>_TheSpecialOne_</th>\n",
       "      <th>@switchfoot http://twitpic.com/2y1zl - Awww, that's a bummer.  You shoulda got David Carr of Third Day to do it. ;D</th>\n",
       "    </tr>\n",
       "  </thead>\n",
       "  <tbody>\n",
       "    <tr>\n",
       "      <th>0</th>\n",
       "      <td>0</td>\n",
       "      <td>1467810672</td>\n",
       "      <td>Mon Apr 06 22:19:49 PDT 2009</td>\n",
       "      <td>NO_QUERY</td>\n",
       "      <td>scotthamilton</td>\n",
       "      <td>is upset that he can't update his Facebook by texting it... and might cry as a result  School today also. Blah!</td>\n",
       "    </tr>\n",
       "    <tr>\n",
       "      <th>1</th>\n",
       "      <td>0</td>\n",
       "      <td>1467810917</td>\n",
       "      <td>Mon Apr 06 22:19:53 PDT 2009</td>\n",
       "      <td>NO_QUERY</td>\n",
       "      <td>mattycus</td>\n",
       "      <td>@Kenichan I dived many times for the ball. Managed to save 50%  The rest go out of bounds</td>\n",
       "    </tr>\n",
       "    <tr>\n",
       "      <th>2</th>\n",
       "      <td>0</td>\n",
       "      <td>1467811184</td>\n",
       "      <td>Mon Apr 06 22:19:57 PDT 2009</td>\n",
       "      <td>NO_QUERY</td>\n",
       "      <td>ElleCTF</td>\n",
       "      <td>my whole body feels itchy and like its on fire</td>\n",
       "    </tr>\n",
       "    <tr>\n",
       "      <th>3</th>\n",
       "      <td>0</td>\n",
       "      <td>1467811193</td>\n",
       "      <td>Mon Apr 06 22:19:57 PDT 2009</td>\n",
       "      <td>NO_QUERY</td>\n",
       "      <td>Karoli</td>\n",
       "      <td>@nationwideclass no, it's not behaving at all. i'm mad. why am i here? because I can't see you all over there.</td>\n",
       "    </tr>\n",
       "    <tr>\n",
       "      <th>4</th>\n",
       "      <td>0</td>\n",
       "      <td>1467811372</td>\n",
       "      <td>Mon Apr 06 22:20:00 PDT 2009</td>\n",
       "      <td>NO_QUERY</td>\n",
       "      <td>joy_wolf</td>\n",
       "      <td>@Kwesidei not the whole crew</td>\n",
       "    </tr>\n",
       "  </tbody>\n",
       "</table></div>"
      ],
      "text/plain": [
       "   0  1467810369  Mon Apr 06 22:19:45 PDT 2009  NO_QUERY _TheSpecialOne_  \\\n",
       "0  0  1467810672  Mon Apr 06 22:19:49 PDT 2009  NO_QUERY   scotthamilton   \n",
       "1  0  1467810917  Mon Apr 06 22:19:53 PDT 2009  NO_QUERY        mattycus   \n",
       "2  0  1467811184  Mon Apr 06 22:19:57 PDT 2009  NO_QUERY         ElleCTF   \n",
       "3  0  1467811193  Mon Apr 06 22:19:57 PDT 2009  NO_QUERY          Karoli   \n",
       "4  0  1467811372  Mon Apr 06 22:20:00 PDT 2009  NO_QUERY        joy_wolf   \n",
       "\n",
       "  @switchfoot http://twitpic.com/2y1zl - Awww, that's a bummer.  You shoulda got David Carr of Third Day to do it. ;D  \n",
       "0  is upset that he can't update his Facebook by ...                                                                   \n",
       "1  @Kenichan I dived many times for the ball. Man...                                                                   \n",
       "2    my whole body feels itchy and like its on fire                                                                    \n",
       "3  @nationwideclass no, it's not behaving at all....                                                                   \n",
       "4                      @Kwesidei not the whole crew                                                                    "
      ]
     },
     "execution_count": 2,
     "metadata": {},
     "output_type": "execute_result"
    }
   ],
   "source": [
    "# Reading the data\n",
    "data = pd.read_csv('../Data/training.1600000.processed.noemoticon.csv',encoding=\"ISO-8859-1\")\n",
    "data.head()"
   ]
  },
  {
   "cell_type": "code",
   "execution_count": 3,
   "id": "badf047e",
   "metadata": {},
   "outputs": [
    {
     "data": {
      "text/html": [
       "<div><div id=7c6b46fb-cb15-48f3-b157-efd4c5bc3c3b style=\"display:none; background-color:#9D6CFF; color:white; width:200px; height:30px; padding-left:5px; border-radius:4px; flex-direction:row; justify-content:space-around; align-items:center;\" onmouseover=\"this.style.backgroundColor='#BA9BF8'\" onmouseout=\"this.style.backgroundColor='#9D6CFF'\" onclick=\"window.commands?.execute('create-mitosheet-from-dataframe-output');\">See Full Dataframe in Mito</div> <script> if (window.commands.hasCommand('create-mitosheet-from-dataframe-output')) document.getElementById('7c6b46fb-cb15-48f3-b157-efd4c5bc3c3b').style.display = 'flex' </script> <table border=\"1\" class=\"dataframe\">\n",
       "  <thead>\n",
       "    <tr style=\"text-align: right;\">\n",
       "      <th></th>\n",
       "      <th>target</th>\n",
       "      <th>ids</th>\n",
       "      <th>date</th>\n",
       "      <th>flag</th>\n",
       "      <th>user</th>\n",
       "      <th>tweet</th>\n",
       "    </tr>\n",
       "  </thead>\n",
       "  <tbody>\n",
       "    <tr>\n",
       "      <th>0</th>\n",
       "      <td>0</td>\n",
       "      <td>1467810672</td>\n",
       "      <td>Mon Apr 06 22:19:49 PDT 2009</td>\n",
       "      <td>NO_QUERY</td>\n",
       "      <td>scotthamilton</td>\n",
       "      <td>is upset that he can't update his Facebook by texting it... and might cry as a result  School today also. Blah!</td>\n",
       "    </tr>\n",
       "    <tr>\n",
       "      <th>1</th>\n",
       "      <td>0</td>\n",
       "      <td>1467810917</td>\n",
       "      <td>Mon Apr 06 22:19:53 PDT 2009</td>\n",
       "      <td>NO_QUERY</td>\n",
       "      <td>mattycus</td>\n",
       "      <td>@Kenichan I dived many times for the ball. Managed to save 50%  The rest go out of bounds</td>\n",
       "    </tr>\n",
       "    <tr>\n",
       "      <th>2</th>\n",
       "      <td>0</td>\n",
       "      <td>1467811184</td>\n",
       "      <td>Mon Apr 06 22:19:57 PDT 2009</td>\n",
       "      <td>NO_QUERY</td>\n",
       "      <td>ElleCTF</td>\n",
       "      <td>my whole body feels itchy and like its on fire</td>\n",
       "    </tr>\n",
       "    <tr>\n",
       "      <th>3</th>\n",
       "      <td>0</td>\n",
       "      <td>1467811193</td>\n",
       "      <td>Mon Apr 06 22:19:57 PDT 2009</td>\n",
       "      <td>NO_QUERY</td>\n",
       "      <td>Karoli</td>\n",
       "      <td>@nationwideclass no, it's not behaving at all. i'm mad. why am i here? because I can't see you all over there.</td>\n",
       "    </tr>\n",
       "    <tr>\n",
       "      <th>4</th>\n",
       "      <td>0</td>\n",
       "      <td>1467811372</td>\n",
       "      <td>Mon Apr 06 22:20:00 PDT 2009</td>\n",
       "      <td>NO_QUERY</td>\n",
       "      <td>joy_wolf</td>\n",
       "      <td>@Kwesidei not the whole crew</td>\n",
       "    </tr>\n",
       "  </tbody>\n",
       "</table></div>"
      ],
      "text/plain": [
       "   target         ids                          date      flag           user  \\\n",
       "0       0  1467810672  Mon Apr 06 22:19:49 PDT 2009  NO_QUERY  scotthamilton   \n",
       "1       0  1467810917  Mon Apr 06 22:19:53 PDT 2009  NO_QUERY       mattycus   \n",
       "2       0  1467811184  Mon Apr 06 22:19:57 PDT 2009  NO_QUERY        ElleCTF   \n",
       "3       0  1467811193  Mon Apr 06 22:19:57 PDT 2009  NO_QUERY         Karoli   \n",
       "4       0  1467811372  Mon Apr 06 22:20:00 PDT 2009  NO_QUERY       joy_wolf   \n",
       "\n",
       "                                               tweet  \n",
       "0  is upset that he can't update his Facebook by ...  \n",
       "1  @Kenichan I dived many times for the ball. Man...  \n",
       "2    my whole body feels itchy and like its on fire   \n",
       "3  @nationwideclass no, it's not behaving at all....  \n",
       "4                      @Kwesidei not the whole crew   "
      ]
     },
     "execution_count": 3,
     "metadata": {},
     "output_type": "execute_result"
    },
    {
     "name": "stderr",
     "output_type": "stream",
     "text": [
      "Backing off send_request(...) for 22.3s (requests.exceptions.ConnectionError: HTTPSConnectionPool(host='api.segment.io', port=443): Max retries exceeded with url: /v1/batch (Caused by NewConnectionError('<urllib3.connection.HTTPSConnection object at 0x000001CAA99A3E50>: Failed to establish a new connection: [Errno 11001] getaddrinfo failed')))\n"
     ]
    }
   ],
   "source": [
    "# Inserting Column names\n",
    "data.columns = ['target', 'ids', 'date', 'flag', 'user', 'tweet']\n",
    "data.head()"
   ]
  },
  {
   "cell_type": "code",
   "execution_count": 4,
   "id": "d83afc8e",
   "metadata": {},
   "outputs": [
    {
     "data": {
      "text/html": [
       "<div><div id=8cbec019-9c1a-445b-b482-70a37ac64770 style=\"display:none; background-color:#9D6CFF; color:white; width:200px; height:30px; padding-left:5px; border-radius:4px; flex-direction:row; justify-content:space-around; align-items:center;\" onmouseover=\"this.style.backgroundColor='#BA9BF8'\" onmouseout=\"this.style.backgroundColor='#9D6CFF'\" onclick=\"window.commands?.execute('create-mitosheet-from-dataframe-output');\">See Full Dataframe in Mito</div> <script> if (window.commands.hasCommand('create-mitosheet-from-dataframe-output')) document.getElementById('8cbec019-9c1a-445b-b482-70a37ac64770').style.display = 'flex' </script> <table border=\"1\" class=\"dataframe\">\n",
       "  <thead>\n",
       "    <tr style=\"text-align: right;\">\n",
       "      <th></th>\n",
       "      <th>target</th>\n",
       "      <th>tweet</th>\n",
       "    </tr>\n",
       "  </thead>\n",
       "  <tbody>\n",
       "    <tr>\n",
       "      <th>0</th>\n",
       "      <td>0</td>\n",
       "      <td>is upset that he can't update his Facebook by texting it... and might cry as a result  School today also. Blah!</td>\n",
       "    </tr>\n",
       "    <tr>\n",
       "      <th>1</th>\n",
       "      <td>0</td>\n",
       "      <td>@Kenichan I dived many times for the ball. Managed to save 50%  The rest go out of bounds</td>\n",
       "    </tr>\n",
       "    <tr>\n",
       "      <th>2</th>\n",
       "      <td>0</td>\n",
       "      <td>my whole body feels itchy and like its on fire</td>\n",
       "    </tr>\n",
       "    <tr>\n",
       "      <th>3</th>\n",
       "      <td>0</td>\n",
       "      <td>@nationwideclass no, it's not behaving at all. i'm mad. why am i here? because I can't see you all over there.</td>\n",
       "    </tr>\n",
       "    <tr>\n",
       "      <th>4</th>\n",
       "      <td>0</td>\n",
       "      <td>@Kwesidei not the whole crew</td>\n",
       "    </tr>\n",
       "  </tbody>\n",
       "</table></div>"
      ],
      "text/plain": [
       "   target                                              tweet\n",
       "0       0  is upset that he can't update his Facebook by ...\n",
       "1       0  @Kenichan I dived many times for the ball. Man...\n",
       "2       0    my whole body feels itchy and like its on fire \n",
       "3       0  @nationwideclass no, it's not behaving at all....\n",
       "4       0                      @Kwesidei not the whole crew "
      ]
     },
     "execution_count": 4,
     "metadata": {},
     "output_type": "execute_result"
    }
   ],
   "source": [
    "# Dropping unnecessary columns and updating target values\n",
    "data = data.drop(['date','ids', 'flag', 'user'], axis=1)\n",
    "data[\"target\"].replace({0: 0, 4: 1}, inplace=True) # 0 for -ve class and 1 for +ve class\n",
    "data.head()"
   ]
  },
  {
   "cell_type": "code",
   "execution_count": 5,
   "id": "7d2ae2d0",
   "metadata": {},
   "outputs": [
    {
     "name": "stdout",
     "output_type": "stream",
     "text": [
      "<class 'pandas.core.frame.DataFrame'>\n",
      "RangeIndex: 1599999 entries, 0 to 1599998\n",
      "Data columns (total 2 columns):\n",
      " #   Column  Non-Null Count    Dtype \n",
      "---  ------  --------------    ----- \n",
      " 0   target  1599999 non-null  int64 \n",
      " 1   tweet   1599999 non-null  object\n",
      "dtypes: int64(1), object(1)\n",
      "memory usage: 24.4+ MB\n"
     ]
    }
   ],
   "source": [
    "# data decsription\n",
    "data.info()"
   ]
  },
  {
   "cell_type": "code",
   "execution_count": 6,
   "id": "429783ca",
   "metadata": {},
   "outputs": [
    {
     "data": {
      "text/plain": [
       "1    800000\n",
       "0    799999\n",
       "Name: target, dtype: int64"
      ]
     },
     "execution_count": 6,
     "metadata": {},
     "output_type": "execute_result"
    }
   ],
   "source": [
    "# Insight on target values and counts\n",
    "data['target'].value_counts()"
   ]
  },
  {
   "cell_type": "code",
   "execution_count": 7,
   "id": "4fcb570d",
   "metadata": {},
   "outputs": [
    {
     "name": "stderr",
     "output_type": "stream",
     "text": [
      "Backing off send_request(...) for 45.8s (requests.exceptions.ConnectionError: HTTPSConnectionPool(host='api.segment.io', port=443): Max retries exceeded with url: /v1/batch (Caused by NewConnectionError('<urllib3.connection.HTTPSConnection object at 0x000001CAA99A30A0>: Failed to establish a new connection: [Errno 11001] getaddrinfo failed')))\n"
     ]
    }
   ],
   "source": [
    "# spilt the data into test and train set\n",
    "split = StratifiedShuffleSplit(n_splits=1, test_size=0.2, random_state=42)\n",
    "for train_index, test_index in split.split(data, data[\"target\"]):\n",
    "    train_set = data.loc[train_index]\n",
    "    test_data = data.loc[test_index]\n",
    "\n",
    "    #splits the train_set into val and train data\n",
    "Train_data, Val_data = train_test_split(train_set, test_size=0.2, random_state=7)\n"
   ]
  },
  {
   "cell_type": "code",
   "execution_count": 8,
   "id": "5a2b81b7",
   "metadata": {},
   "outputs": [],
   "source": [
    "# saves the data into csv files\n",
    "# test_data.to_csv(\"Test data.csv\")\n",
    "# Train_data.to_csv(\"Train data.csv\")\n",
    "# Val_data.to_csv(\"Validation data.csv\")"
   ]
  },
  {
   "cell_type": "code",
   "execution_count": 9,
   "id": "89f07eb7",
   "metadata": {},
   "outputs": [
    {
     "name": "stdout",
     "output_type": "stream",
     "text": [
      "<class 'pandas.core.frame.DataFrame'>\n",
      "Int64Index: 1023999 entries, 745688 to 341109\n",
      "Data columns (total 2 columns):\n",
      " #   Column  Non-Null Count    Dtype \n",
      "---  ------  --------------    ----- \n",
      " 0   target  1023999 non-null  int64 \n",
      " 1   tweet   1023999 non-null  object\n",
      "dtypes: int64(1), object(1)\n",
      "memory usage: 23.4+ MB\n",
      "None\n"
     ]
    },
    {
     "data": {
      "text/html": [
       "<div><div id=7a16974b-f10b-4de3-9f8a-1d4cfbba77ed style=\"display:none; background-color:#9D6CFF; color:white; width:200px; height:30px; padding-left:5px; border-radius:4px; flex-direction:row; justify-content:space-around; align-items:center;\" onmouseover=\"this.style.backgroundColor='#BA9BF8'\" onmouseout=\"this.style.backgroundColor='#9D6CFF'\" onclick=\"window.commands?.execute('create-mitosheet-from-dataframe-output');\">See Full Dataframe in Mito</div> <script> if (window.commands.hasCommand('create-mitosheet-from-dataframe-output')) document.getElementById('7a16974b-f10b-4de3-9f8a-1d4cfbba77ed').style.display = 'flex' </script> <table border=\"1\" class=\"dataframe\">\n",
       "  <thead>\n",
       "    <tr style=\"text-align: right;\">\n",
       "      <th></th>\n",
       "      <th>target</th>\n",
       "      <th>tweet</th>\n",
       "    </tr>\n",
       "  </thead>\n",
       "  <tbody>\n",
       "    <tr>\n",
       "      <th>745688</th>\n",
       "      <td>0</td>\n",
       "      <td>I know in the grand scheme of things it's not important where we get hitched, but the Harbourfront Music Garden would've been beautiful.</td>\n",
       "    </tr>\n",
       "    <tr>\n",
       "      <th>768060</th>\n",
       "      <td>0</td>\n",
       "      <td>Went t petsmart and found that Dustin wasn't adopted after all   Stil took two white cats Monroe and Sophia Darling there for adoption.</td>\n",
       "    </tr>\n",
       "    <tr>\n",
       "      <th>1572707</th>\n",
       "      <td>1</td>\n",
       "      <td>@Khoobi4 Date Night  How exciting! I hope you guys got to enjoy some quiet alone adult time ;)</td>\n",
       "    </tr>\n",
       "    <tr>\n",
       "      <th>909999</th>\n",
       "      <td>1</td>\n",
       "      <td>is hangin with the love of my life. Tessa McCravy!!</td>\n",
       "    </tr>\n",
       "    <tr>\n",
       "      <th>1023548</th>\n",
       "      <td>1</td>\n",
       "      <td>Wasting my time, on the computer, nothing else to do, besides wait, for something interesting.</td>\n",
       "    </tr>\n",
       "  </tbody>\n",
       "</table></div>"
      ],
      "text/plain": [
       "         target                                              tweet\n",
       "745688        0  I know in the grand scheme of things it's not ...\n",
       "768060        0  Went t petsmart and found that Dustin wasn't a...\n",
       "1572707       1  @Khoobi4 Date Night  How exciting! I hope you ...\n",
       "909999        1  is hangin with the love of my life. Tessa McCr...\n",
       "1023548       1  Wasting my time, on the computer, nothing else..."
      ]
     },
     "execution_count": 9,
     "metadata": {},
     "output_type": "execute_result"
    }
   ],
   "source": [
    "print(Train_data.info())\n",
    "Train_data.head()"
   ]
  },
  {
   "cell_type": "code",
   "execution_count": 10,
   "id": "2db6b784",
   "metadata": {},
   "outputs": [
    {
     "name": "stdout",
     "output_type": "stream",
     "text": [
      "<class 'pandas.core.frame.DataFrame'>\n",
      "Int64Index: 256000 entries, 59852 to 617001\n",
      "Data columns (total 2 columns):\n",
      " #   Column  Non-Null Count   Dtype \n",
      "---  ------  --------------   ----- \n",
      " 0   target  256000 non-null  int64 \n",
      " 1   tweet   256000 non-null  object\n",
      "dtypes: int64(1), object(1)\n",
      "memory usage: 5.9+ MB\n",
      "None\n"
     ]
    },
    {
     "data": {
      "text/html": [
       "<div><div id=ca695578-0a46-4b25-8632-93621c9928ba style=\"display:none; background-color:#9D6CFF; color:white; width:200px; height:30px; padding-left:5px; border-radius:4px; flex-direction:row; justify-content:space-around; align-items:center;\" onmouseover=\"this.style.backgroundColor='#BA9BF8'\" onmouseout=\"this.style.backgroundColor='#9D6CFF'\" onclick=\"window.commands?.execute('create-mitosheet-from-dataframe-output');\">See Full Dataframe in Mito</div> <script> if (window.commands.hasCommand('create-mitosheet-from-dataframe-output')) document.getElementById('ca695578-0a46-4b25-8632-93621c9928ba').style.display = 'flex' </script> <table border=\"1\" class=\"dataframe\">\n",
       "  <thead>\n",
       "    <tr style=\"text-align: right;\">\n",
       "      <th></th>\n",
       "      <th>target</th>\n",
       "      <th>tweet</th>\n",
       "    </tr>\n",
       "  </thead>\n",
       "  <tbody>\n",
       "    <tr>\n",
       "      <th>59852</th>\n",
       "      <td>0</td>\n",
       "      <td>@ShirEnde DAAAAAAAAAAAAMMMMMNNN YOOOUUUU</td>\n",
       "    </tr>\n",
       "    <tr>\n",
       "      <th>465600</th>\n",
       "      <td>0</td>\n",
       "      <td>@Samantha_Mayy have an amazing time in Turkey!! will miss you</td>\n",
       "    </tr>\n",
       "    <tr>\n",
       "      <th>578779</th>\n",
       "      <td>0</td>\n",
       "      <td>@TheeBlakBeckham sad I'm missing kickball  let's play this weekend!</td>\n",
       "    </tr>\n",
       "    <tr>\n",
       "      <th>866994</th>\n",
       "      <td>1</td>\n",
       "      <td>@YourFavoritePJ well done DJing tonight  I had fun even tough i was a bit quiet just had to get used to it</td>\n",
       "    </tr>\n",
       "    <tr>\n",
       "      <th>870877</th>\n",
       "      <td>1</td>\n",
       "      <td>Listening to the rain</td>\n",
       "    </tr>\n",
       "  </tbody>\n",
       "</table></div>"
      ],
      "text/plain": [
       "        target                                              tweet\n",
       "59852        0          @ShirEnde DAAAAAAAAAAAAMMMMMNNN YOOOUUUU \n",
       "465600       0  @Samantha_Mayy have an amazing time in Turkey!...\n",
       "578779       0  @TheeBlakBeckham sad I'm missing kickball  let...\n",
       "866994       1  @YourFavoritePJ well done DJing tonight  I had...\n",
       "870877       1                             Listening to the rain "
      ]
     },
     "execution_count": 10,
     "metadata": {},
     "output_type": "execute_result"
    }
   ],
   "source": [
    "print(Val_data.info())\n",
    "Val_data.head()"
   ]
  },
  {
   "cell_type": "code",
   "execution_count": 11,
   "id": "4410dbf5",
   "metadata": {},
   "outputs": [
    {
     "name": "stdout",
     "output_type": "stream",
     "text": [
      "<class 'pandas.core.frame.DataFrame'>\n",
      "Int64Index: 320000 entries, 291262 to 897065\n",
      "Data columns (total 2 columns):\n",
      " #   Column  Non-Null Count   Dtype \n",
      "---  ------  --------------   ----- \n",
      " 0   target  320000 non-null  int64 \n",
      " 1   tweet   320000 non-null  object\n",
      "dtypes: int64(1), object(1)\n",
      "memory usage: 7.3+ MB\n",
      "None\n"
     ]
    },
    {
     "data": {
      "text/html": [
       "<div><div id=8902e74a-02e2-49f1-80dd-1f8bf641ed65 style=\"display:none; background-color:#9D6CFF; color:white; width:200px; height:30px; padding-left:5px; border-radius:4px; flex-direction:row; justify-content:space-around; align-items:center;\" onmouseover=\"this.style.backgroundColor='#BA9BF8'\" onmouseout=\"this.style.backgroundColor='#9D6CFF'\" onclick=\"window.commands?.execute('create-mitosheet-from-dataframe-output');\">See Full Dataframe in Mito</div> <script> if (window.commands.hasCommand('create-mitosheet-from-dataframe-output')) document.getElementById('8902e74a-02e2-49f1-80dd-1f8bf641ed65').style.display = 'flex' </script> <table border=\"1\" class=\"dataframe\">\n",
       "  <thead>\n",
       "    <tr style=\"text-align: right;\">\n",
       "      <th></th>\n",
       "      <th>target</th>\n",
       "      <th>tweet</th>\n",
       "    </tr>\n",
       "  </thead>\n",
       "  <tbody>\n",
       "    <tr>\n",
       "      <th>291262</th>\n",
       "      <td>0</td>\n",
       "      <td>is crying because she just remembered that she forgot to go to the jb livechat on thursday</td>\n",
       "    </tr>\n",
       "    <tr>\n",
       "      <th>1359074</th>\n",
       "      <td>1</td>\n",
       "      <td>qu buy OPEN HOUSE THIS WEEKEND 11AM-4PM. Best Value One Bedroom in LIC!  (Long Island City) $395000 1bd: http://tinyurl.com/pt8nqd</td>\n",
       "    </tr>\n",
       "    <tr>\n",
       "      <th>1009650</th>\n",
       "      <td>1</td>\n",
       "      <td>@GinoandFran Fran, can you greet me on air??? If that's okay. HAHAHAHA. THANKS !</td>\n",
       "    </tr>\n",
       "    <tr>\n",
       "      <th>1538713</th>\n",
       "      <td>1</td>\n",
       "      <td>@mangelanchez OMG, thats awesome! Goood luck!  U can meet caaute calgary boys buying themselves clothes, and tell them all about me LOL</td>\n",
       "    </tr>\n",
       "    <tr>\n",
       "      <th>1046689</th>\n",
       "      <td>1</td>\n",
       "      <td>@Sumana_Raja hahahhaha! That is a very good point.</td>\n",
       "    </tr>\n",
       "  </tbody>\n",
       "</table></div>"
      ],
      "text/plain": [
       "         target                                              tweet\n",
       "291262        0  is crying because she just remembered that she...\n",
       "1359074       1  qu buy OPEN HOUSE THIS WEEKEND 11AM-4PM. Best ...\n",
       "1009650       1  @GinoandFran Fran, can you greet me on air??? ...\n",
       "1538713       1  @mangelanchez OMG, thats awesome! Goood luck! ...\n",
       "1046689       1  @Sumana_Raja hahahhaha! That is a very good po..."
      ]
     },
     "execution_count": 11,
     "metadata": {},
     "output_type": "execute_result"
    }
   ],
   "source": [
    "print(test_data.info())\n",
    "test_data.head()"
   ]
  },
  {
   "cell_type": "code",
   "execution_count": 12,
   "id": "13e606ee",
   "metadata": {},
   "outputs": [],
   "source": [
    "# Create an input pipeline using tf.data\n",
    "def df_to_dataset(dataframe, shuffle=True, batch_size=32):\n",
    "    df = dataframe.copy()\n",
    "    labels = df.pop('target')\n",
    "    features = df.pop('tweet')\n",
    "    ds = tf.data.Dataset.from_tensor_slices((features.values, labels.values))\n",
    "    if shuffle:\n",
    "        ds = ds.shuffle(buffer_size=len(dataframe))\n",
    "    ds = ds.batch(batch_size)\n",
    "    ds = ds.prefetch(batch_size)\n",
    "    return ds"
   ]
  },
  {
   "cell_type": "code",
   "execution_count": 13,
   "id": "5b276ef5",
   "metadata": {},
   "outputs": [],
   "source": [
    "# Let’s create three Dataset objects for training, validation, and testing:\n",
    "batch_size = 256\n",
    "train_ds = df_to_dataset(Train_data, batch_size=batch_size)\n",
    "val_ds = df_to_dataset(Val_data, shuffle=False, batch_size=batch_size)\n",
    "test_ds = df_to_dataset(test_data, shuffle=False, batch_size=batch_size)"
   ]
  },
  {
   "cell_type": "code",
   "execution_count": 14,
   "id": "94ea634b",
   "metadata": {},
   "outputs": [
    {
     "name": "stdout",
     "output_type": "stream",
     "text": [
      "inputs.shape: (256,)\n",
      "inputs.dtype: <dtype: 'string'>\n",
      "targets.shape: (256,)\n",
      "targets.dtype: <dtype: 'int64'>\n",
      "inputs[0]: tf.Tensor(b'I got a notice from the school saying soon I will leave CPH and the dorm...as if I needed further reminding.  *sniff*', shape=(), dtype=string)\n",
      "targets[0]: tf.Tensor(0, shape=(), dtype=int64)\n"
     ]
    }
   ],
   "source": [
    "# Displaying the shapes and dtypes of the first batch\n",
    "for inputs, targets in train_ds:\n",
    "    print(\"inputs.shape:\", inputs.shape)\n",
    "    print(\"inputs.dtype:\", inputs.dtype)\n",
    "    print(\"targets.shape:\", targets.shape)\n",
    "    print(\"targets.dtype:\", targets.dtype)\n",
    "    print(\"inputs[0]:\", inputs[0])\n",
    "    print(\"targets[0]:\", targets[0])\n",
    "    break"
   ]
  },
  {
   "cell_type": "code",
   "execution_count": 15,
   "id": "5a0fe504",
   "metadata": {},
   "outputs": [
    {
     "name": "stderr",
     "output_type": "stream",
     "text": [
      "Backing off send_request(...) for 223.2s (requests.exceptions.ConnectionError: HTTPSConnectionPool(host='api.segment.io', port=443): Max retries exceeded with url: /v1/batch (Caused by NewConnectionError('<urllib3.connection.HTTPSConnection object at 0x000001CAA99A3040>: Failed to establish a new connection: [Errno 11001] getaddrinfo failed')))\n"
     ]
    }
   ],
   "source": [
    "max_length = 100\n",
    "max_tokens = 2000\n",
    "text_vectorization = layers.TextVectorization(max_tokens=max_tokens, output_mode=\"int\", output_sequence_length=max_length,)\n",
    "text_only_train_ds = train_ds.map(lambda x, y: x)\n",
    "text_vectorization.adapt(text_only_train_ds)\n",
    "\n",
    "train_ds = train_ds.map(lambda x, y: (text_vectorization(x), y),num_parallel_calls=4)\n",
    "\n",
    "val_ds = val_ds.map(lambda x, y: (text_vectorization(x), y),num_parallel_calls=4)\n",
    "\n",
    "test_ds = test_ds.map(lambda x, y: (text_vectorization(x), y),num_parallel_calls=4)\n"
   ]
  },
  {
   "cell_type": "code",
   "execution_count": 24,
   "id": "c85d5a85",
   "metadata": {},
   "outputs": [
    {
     "name": "stdout",
     "output_type": "stream",
     "text": [
      "inputs.shape: (256, 100)\n",
      "inputs.dtype: <dtype: 'int64'>\n",
      "targets.shape: (256,)\n",
      "targets.dtype: <dtype: 'int64'>\n",
      "inputs[0]: tf.Tensor(\n",
      "[  1  57  23   5 162  32   0   0   0   0   0   0   0   0   0   0   0   0\n",
      "   0   0   0   0   0   0   0   0   0   0   0   0   0   0   0   0   0   0\n",
      "   0   0   0   0   0   0   0   0   0   0   0   0   0   0   0   0   0   0\n",
      "   0   0   0   0   0   0   0   0   0   0   0   0   0   0   0   0   0   0\n",
      "   0   0   0   0   0   0   0   0   0   0   0   0   0   0   0   0   0   0\n",
      "   0   0   0   0   0   0   0   0   0   0], shape=(100,), dtype=int64)\n",
      "targets[0]: tf.Tensor(0, shape=(), dtype=int64)\n",
      "inputs[1]: tf.Tensor(\n",
      "[ 21  49 185   1  98   0   0   0   0   0   0   0   0   0   0   0   0   0\n",
      "   0   0   0   0   0   0   0   0   0   0   0   0   0   0   0   0   0   0\n",
      "   0   0   0   0   0   0   0   0   0   0   0   0   0   0   0   0   0   0\n",
      "   0   0   0   0   0   0   0   0   0   0   0   0   0   0   0   0   0   0\n",
      "   0   0   0   0   0   0   0   0   0   0   0   0   0   0   0   0   0   0\n",
      "   0   0   0   0   0   0   0   0   0   0], shape=(100,), dtype=int64)\n",
      "targets[1]: tf.Tensor(0, shape=(), dtype=int64)\n"
     ]
    }
   ],
   "source": [
    "# Displaying the shapes and dtypes of the first batch\n",
    "for inputs, targets in train_ds:\n",
    "    print(\"inputs.shape:\", inputs.shape)\n",
    "    print(\"inputs.dtype:\", inputs.dtype)\n",
    "    print(\"targets.shape:\", targets.shape)\n",
    "    print(\"targets.dtype:\", targets.dtype)\n",
    "    print(\"inputs[0]:\", inputs[0])\n",
    "    print(\"targets[0]:\", targets[0])\n",
    "    print(\"inputs[1]:\", inputs[1])\n",
    "    print(\"targets[1]:\", targets[1])\n",
    "    break"
   ]
  },
  {
   "cell_type": "code",
   "execution_count": 19,
   "id": "2472aec1",
   "metadata": {},
   "outputs": [
    {
     "name": "stdout",
     "output_type": "stream",
     "text": [
      "Model: \"model\"\n",
      "_________________________________________________________________\n",
      " Layer (type)                Output Shape              Param #   \n",
      "=================================================================\n",
      " input_4 (InputLayer)        [(None, None)]            0         \n",
      "                                                                 \n",
      " embedding_3 (Embedding)     (None, None, 64)          128000    \n",
      "                                                                 \n",
      " bidirectional_3 (Bidirectio  (None, 64)               24832     \n",
      " nal)                                                            \n",
      "                                                                 \n",
      " dropout_3 (Dropout)         (None, 64)                0         \n",
      "                                                                 \n",
      " dense (Dense)               (None, 128)               8320      \n",
      "                                                                 \n",
      " dropout_4 (Dropout)         (None, 128)               0         \n",
      "                                                                 \n",
      " dense_1 (Dense)             (None, 1)                 129       \n",
      "                                                                 \n",
      "=================================================================\n",
      "Total params: 161,281\n",
      "Trainable params: 161,281\n",
      "Non-trainable params: 0\n",
      "_________________________________________________________________\n"
     ]
    }
   ],
   "source": [
    "# A integer input for vocab indices.\n",
    "inputs = keras.Input(shape=(None,), dtype=\"int64\")\n",
    "\n",
    "# Next, we add a layer to map those vocab indices into a space of dimensionality\n",
    "# 'embedding_dim'.\n",
    "embedded = layers.Embedding(input_dim=max_tokens, output_dim=64,mask_zero=True)(inputs)\n",
    "\n",
    "x = layers.Bidirectional(layers.LSTM(32))(embedded)\n",
    "\n",
    "# Dropout \n",
    "x = layers.Dropout(0.5)(x)\n",
    "\n",
    "# Conv1D + global max pooling\n",
    "\n",
    "# x = layers.Conv1D(128, 7, padding=\"valid\", activation=\"relu\", strides=3)(x)\n",
    "# x = layers.GlobalMaxPooling1D()(x)\n",
    "\n",
    "# We add a vanilla hidden layer:\n",
    "x = layers.Dense(128, activation=\"relu\")(x)\n",
    "x = layers.Dropout(0.5)(x)\n",
    "\n",
    "outputs = layers.Dense(1, activation=\"sigmoid\")(x)\n",
    "model = keras.Model(inputs, outputs)\n",
    "model.compile(optimizer=\"rmsprop\",loss=\"binary_crossentropy\",metrics=[\"accuracy\"])\n",
    "model.summary()"
   ]
  },
  {
   "cell_type": "code",
   "execution_count": 20,
   "id": "4ef69efe",
   "metadata": {},
   "outputs": [],
   "source": [
    "earlystopping = keras.callbacks.EarlyStopping(monitor='val_loss', \n",
    "                              mode='min', \n",
    "                              verbose=1, \n",
    "                              patience=5\n",
    "                             )\n",
    "checkpointer = keras.callbacks.ModelCheckpoint(filepath=\"TweetSentModel.hdf5\",\n",
    "                               verbose=1, \n",
    "                               save_best_only=True\n",
    "                              )\n",
    "\n",
    "callbacks = [earlystopping, checkpointer]"
   ]
  },
  {
   "cell_type": "code",
   "execution_count": 21,
   "id": "02aeff24",
   "metadata": {},
   "outputs": [
    {
     "name": "stdout",
     "output_type": "stream",
     "text": [
      "Epoch 1/10\n",
      "  19/4000 [..............................] - ETA: 16:53 - loss: 0.6890 - accuracy: 0.5535"
     ]
    },
    {
     "name": "stderr",
     "output_type": "stream",
     "text": [
      "Backing off send_request(...) for 297.1s (requests.exceptions.ConnectionError: HTTPSConnectionPool(host='api.segment.io', port=443): Max retries exceeded with url: /v1/batch (Caused by NewConnectionError('<urllib3.connection.HTTPSConnection object at 0x000001CAA99A3190>: Failed to establish a new connection: [Errno 11001] getaddrinfo failed')))\n"
     ]
    },
    {
     "name": "stdout",
     "output_type": "stream",
     "text": [
      "1122/4000 [=======>......................] - ETA: 12:54 - loss: 0.4874 - accuracy: 0.7665"
     ]
    },
    {
     "name": "stderr",
     "output_type": "stream",
     "text": [
      "Giving up send_request(...) after 11 tries (requests.exceptions.ConnectionError: HTTPSConnectionPool(host='api.segment.io', port=443): Max retries exceeded with url: /v1/batch (Caused by NewConnectionError('<urllib3.connection.HTTPSConnection object at 0x000001CAA99A3640>: Failed to establish a new connection: [Errno 11001] getaddrinfo failed')))\n",
      "error uploading: HTTPSConnectionPool(host='api.segment.io', port=443): Max retries exceeded with url: /v1/batch (Caused by NewConnectionError('<urllib3.connection.HTTPSConnection object at 0x000001CAA99A3640>: Failed to establish a new connection: [Errno 11001] getaddrinfo failed'))\n"
     ]
    },
    {
     "name": "stdout",
     "output_type": "stream",
     "text": [
      "4000/4000 [==============================] - ETA: 0s - loss: 0.4596 - accuracy: 0.7831\n",
      "Epoch 1: val_loss improved from inf to 0.43465, saving model to TweetSentModel.hdf5\n",
      "4000/4000 [==============================] - 1249s 310ms/step - loss: 0.4596 - accuracy: 0.7831 - val_loss: 0.4346 - val_accuracy: 0.7963\n",
      "Epoch 2/10\n",
      "4000/4000 [==============================] - ETA: 0s - loss: 0.4321 - accuracy: 0.7995\n",
      "Epoch 2: val_loss improved from 0.43465 to 0.42206, saving model to TweetSentModel.hdf5\n",
      "4000/4000 [==============================] - 2214s 553ms/step - loss: 0.4321 - accuracy: 0.7995 - val_loss: 0.4221 - val_accuracy: 0.8041\n",
      "Epoch 3/10\n",
      "4000/4000 [==============================] - ETA: 0s - loss: 0.4233 - accuracy: 0.8050\n",
      "Epoch 3: val_loss did not improve from 0.42206\n",
      "4000/4000 [==============================] - 3949s 987ms/step - loss: 0.4233 - accuracy: 0.8050 - val_loss: 0.4230 - val_accuracy: 0.8039\n",
      "Epoch 4/10\n",
      "4000/4000 [==============================] - ETA: 0s - loss: 0.4173 - accuracy: 0.8087 \n",
      "Epoch 4: val_loss improved from 0.42206 to 0.41732, saving model to TweetSentModel.hdf5\n",
      "4000/4000 [==============================] - 54965s 14s/step - loss: 0.4173 - accuracy: 0.8087 - val_loss: 0.4173 - val_accuracy: 0.8068\n",
      "Epoch 5/10\n",
      "4000/4000 [==============================] - ETA: 0s - loss: 0.4129 - accuracy: 0.8113\n",
      "Epoch 5: val_loss improved from 0.41732 to 0.41133, saving model to TweetSentModel.hdf5\n",
      "4000/4000 [==============================] - 2967s 742ms/step - loss: 0.4129 - accuracy: 0.8113 - val_loss: 0.4113 - val_accuracy: 0.8101\n",
      "Epoch 6/10\n",
      "4000/4000 [==============================] - ETA: 0s - loss: 0.4094 - accuracy: 0.8135\n",
      "Epoch 6: val_loss improved from 0.41133 to 0.40906, saving model to TweetSentModel.hdf5\n",
      "4000/4000 [==============================] - 3089s 772ms/step - loss: 0.4094 - accuracy: 0.8135 - val_loss: 0.4091 - val_accuracy: 0.8114\n",
      "Epoch 7/10\n",
      "4000/4000 [==============================] - ETA: 0s - loss: 0.4062 - accuracy: 0.8152\n",
      "Epoch 7: val_loss improved from 0.40906 to 0.40812, saving model to TweetSentModel.hdf5\n",
      "4000/4000 [==============================] - 3427s 856ms/step - loss: 0.4062 - accuracy: 0.8152 - val_loss: 0.4081 - val_accuracy: 0.8116\n",
      "Epoch 8/10\n",
      "4000/4000 [==============================] - ETA: 0s - loss: 0.4039 - accuracy: 0.8168\n",
      "Epoch 8: val_loss improved from 0.40812 to 0.40697, saving model to TweetSentModel.hdf5\n",
      "4000/4000 [==============================] - 9056s 2s/step - loss: 0.4039 - accuracy: 0.8168 - val_loss: 0.4070 - val_accuracy: 0.8121\n",
      "Epoch 9/10\n",
      "4000/4000 [==============================] - ETA: 0s - loss: 0.4017 - accuracy: 0.8179\n",
      "Epoch 9: val_loss improved from 0.40697 to 0.40602, saving model to TweetSentModel.hdf5\n",
      "4000/4000 [==============================] - 3903s 975ms/step - loss: 0.4017 - accuracy: 0.8179 - val_loss: 0.4060 - val_accuracy: 0.8131\n",
      "Epoch 10/10\n",
      "4000/4000 [==============================] - ETA: 0s - loss: 0.3997 - accuracy: 0.8192\n",
      "Epoch 10: val_loss did not improve from 0.40602\n",
      "4000/4000 [==============================] - 4169s 1s/step - loss: 0.3997 - accuracy: 0.8192 - val_loss: 0.4063 - val_accuracy: 0.8132\n",
      "1250/1250 [==============================] - 180s 144ms/step - loss: 0.4056 - accuracy: 0.8142\n",
      "Test acc: 0.814\n"
     ]
    }
   ],
   "source": [
    "model_info = model.fit(train_ds, validation_data=val_ds, epochs=10, callbacks=callbacks)\n",
    "print(f\"Test acc: {model.evaluate(test_ds)[1]:.3f}\")"
   ]
  },
  {
   "cell_type": "code",
   "execution_count": 22,
   "id": "194dc080",
   "metadata": {},
   "outputs": [
    {
     "data": {
      "image/png": "[encoded data removed]",
      "text/plain": [
       "<Figure size 1440x720 with 1 Axes>"
      ]
     },
     "metadata": {
      "needs_background": "light"
     },
     "output_type": "display_data"
    },
    {
     "data": {
      "image/png": "[encoded data removed]",
      "text/plain": [
       "<Figure size 1440x720 with 1 Axes>"
      ]
     },
     "metadata": {
      "needs_background": "light"
     },
     "output_type": "display_data"
    }
   ],
   "source": [
    "%matplotlib inline\n",
    "accuracy = model_info.history[\"accuracy\"]\n",
    "val_accuracy = model_info.history[\"val_accuracy\"]\n",
    "loss = model_info.history[\"loss\"]\n",
    "val_loss = model_info.history[\"val_loss\"]\n",
    "epochs = range(1, len(accuracy) + 1)\n",
    "plt.figure(figsize=(20,10))\n",
    "plt.plot(epochs, accuracy, \"g-\", label=\"Training accuracy\")\n",
    "plt.plot(epochs, val_accuracy, \"b\", label=\"Validation accuracy\")\n",
    "plt.title(\"Training and validation accuracy\")\n",
    "plt.grid()\n",
    "plt.legend()\n",
    "\n",
    "plt.figure(figsize=(20,10))\n",
    "plt.plot(epochs, loss, \"g-\", label=\"Training loss\")\n",
    "plt.plot(epochs, val_loss, \"b\", label=\"Validation loss\")\n",
    "plt.title(\"Training and validation loss\")\n",
    "plt.legend()\n",
    "plt.grid()\n",
    "plt.show()"
   ]
  },
  {
   "cell_type": "code",
   "execution_count": 23,
   "id": "16d2d514",
   "metadata": {},
   "outputs": [],
   "source": [
    "# # saving \n",
    "model.save_weights('TweetSentModel.h5')"
   ]
  },
  {
   "cell_type": "code",
   "execution_count": null,
   "id": "e66f0306",
   "metadata": {},
   "outputs": [],
   "source": [
    "# model = keras.models.load_model(\"embeddings_bidir_gru.keras\")"
   ]
  },
  {
   "cell_type": "code",
   "execution_count": 32,
   "id": "ea2f9ee2",
   "metadata": {},
   "outputs": [
    {
     "name": "stdout",
     "output_type": "stream",
     "text": [
      "Tweet:  [ 85   3  65   6 639   7 365   7  70   1   0   0   0   0   0   0   0   0\n",
      "   0   0   0   0   0   0   0   0   0   0   0   0   0   0   0   0   0   0\n",
      "   0   0   0   0   0   0   0   0   0   0   0   0   0   0   0   0   0   0\n",
      "   0   0   0   0   0   0   0   0   0   0   0   0   0   0   0   0   0   0\n",
      "   0   0   0   0   0   0   0   0   0   0   0   0   0   0   0   0   0   0\n",
      "   0   0   0   0   0   0   0   0   0   0]\n",
      "Label: 1\n",
      "Tweet:  [   1    2  212  252   24   34   36    6 1031    1    0    0    0    0\n",
      "    0    0    0    0    0    0    0    0    0    0    0    0    0    0\n",
      "    0    0    0    0    0    0    0    0    0    0    0    0    0    0\n",
      "    0    0    0    0    0    0    0    0    0    0    0    0    0    0\n",
      "    0    0    0    0    0    0    0    0    0    0    0    0    0    0\n",
      "    0    0    0    0    0    0    0    0    0    0    0    0    0    0\n",
      "    0    0    0    0    0    0    0    0    0    0    0    0    0    0\n",
      "    0    0]\n",
      "Label: 1\n",
      "Tweet:  [223   6  52   6   1  52   1  84 533 133 936 237  91 228 210   0   0   0\n",
      "   0   0   0   0   0   0   0   0   0   0   0   0   0   0   0   0   0   0\n",
      "   0   0   0   0   0   0   0   0   0   0   0   0   0   0   0   0   0   0\n",
      "   0   0   0   0   0   0   0   0   0   0   0   0   0   0   0   0   0   0\n",
      "   0   0   0   0   0   0   0   0   0   0   0   0   0   0   0   0   0   0\n",
      "   0   0   0   0   0   0   0   0   0   0]\n",
      "Label: 0\n",
      "Tweet:  [  1   2 358   1   1  20 771   1 121  10  24   4 692 645   2  62 476   3\n",
      "   1  11   1 663   3  18 233   1   0   0   0   0   0   0   0   0   0   0\n",
      "   0   0   0   0   0   0   0   0   0   0   0   0   0   0   0   0   0   0\n",
      "   0   0   0   0   0   0   0   0   0   0   0   0   0   0   0   0   0   0\n",
      "   0   0   0   0   0   0   0   0   0   0   0   0   0   0   0   0   0   0\n",
      "   0   0   0   0   0   0   0   0   0   0]\n",
      "Label: 1\n",
      "Tweet:  [  5 299  83 215 236   0   0   0   0   0   0   0   0   0   0   0   0   0\n",
      "   0   0   0   0   0   0   0   0   0   0   0   0   0   0   0   0   0   0\n",
      "   0   0   0   0   0   0   0   0   0   0   0   0   0   0   0   0   0   0\n",
      "   0   0   0   0   0   0   0   0   0   0   0   0   0   0   0   0   0   0\n",
      "   0   0   0   0   0   0   0   0   0   0   0   0   0   0   0   0   0   0\n",
      "   0   0   0   0   0   0   0   0   0   0]\n",
      "Label: 0\n",
      "Tweet:  [   2   61 1058   22    1    1   25   26  180    3   26  172    5    1\n",
      "   11   42    1   12  181    1    0    0    0    0    0    0    0    0\n",
      "    0    0    0    0    0    0    0    0    0    0    0    0    0    0\n",
      "    0    0    0    0    0    0    0    0    0    0    0    0    0    0\n",
      "    0    0    0    0    0    0    0    0    0    0    0    0    0    0\n",
      "    0    0    0    0    0    0    0    0    0    0    0    0    0    0\n",
      "    0    0    0    0    0    0    0    0    0    0    0    0    0    0\n",
      "    0    0]\n",
      "Label: 0\n",
      "Tweet:  [   1   38    1    8   40   18    3   23    5    1 1087   16   91  569\n",
      "  735    4 1915  716    7   59   64    1   10    1   76    0    0    0\n",
      "    0    0    0    0    0    0    0    0    0    0    0    0    0    0\n",
      "    0    0    0    0    0    0    0    0    0    0    0    0    0    0\n",
      "    0    0    0    0    0    0    0    0    0    0    0    0    0    0\n",
      "    0    0    0    0    0    0    0    0    0    0    0    0    0    0\n",
      "    0    0    0    0    0    0    0    0    0    0    0    0    0    0\n",
      "    0    0]\n",
      "Label: 1\n",
      "Tweet:  [   1  158    8    6    1    1 1596    1   11    1   64    8  262    0\n",
      "    0    0    0    0    0    0    0    0    0    0    0    0    0    0\n",
      "    0    0    0    0    0    0    0    0    0    0    0    0    0    0\n",
      "    0    0    0    0    0    0    0    0    0    0    0    0    0    0\n",
      "    0    0    0    0    0    0    0    0    0    0    0    0    0    0\n",
      "    0    0    0    0    0    0    0    0    0    0    0    0    0    0\n",
      "    0    0    0    0    0    0    0    0    0    0    0    0    0    0\n",
      "    0    0]\n",
      "Label: 1\n",
      "Tweet:  [ 381   60    1   12 1311   33    5    1    1   29   75  560  274  189\n",
      "  760 1020    1    0    0    0    0    0    0    0    0    0    0    0\n",
      "    0    0    0    0    0    0    0    0    0    0    0    0    0    0\n",
      "    0    0    0    0    0    0    0    0    0    0    0    0    0    0\n",
      "    0    0    0    0    0    0    0    0    0    0    0    0    0    0\n",
      "    0    0    0    0    0    0    0    0    0    0    0    0    0    0\n",
      "    0    0    0    0    0    0    0    0    0    0    0    0    0    0\n",
      "    0    0]\n",
      "Label: 1\n",
      "Tweet:  [   9  567  136  416   22 1147   12  101  408    0    0    0    0    0\n",
      "    0    0    0    0    0    0    0    0    0    0    0    0    0    0\n",
      "    0    0    0    0    0    0    0    0    0    0    0    0    0    0\n",
      "    0    0    0    0    0    0    0    0    0    0    0    0    0    0\n",
      "    0    0    0    0    0    0    0    0    0    0    0    0    0    0\n",
      "    0    0    0    0    0    0    0    0    0    0    0    0    0    0\n",
      "    0    0    0    0    0    0    0    0    0    0    0    0    0    0\n",
      "    0    0]\n",
      "Label: 1\n"
     ]
    }
   ],
   "source": [
    "for text_batch, label_batch in train_ds.take(1):\n",
    "    for i in range(10):\n",
    "        print(\"Tweet: \", text_batch.numpy()[i])\n",
    "        print(\"Label:\", label_batch.numpy()[i])"
   ]
  },
  {
   "cell_type": "code",
   "execution_count": 46,
   "id": "eb9e3dd5",
   "metadata": {},
   "outputs": [],
   "source": [
    "raw_text = 'I think its not fair though'"
   ]
  },
  {
   "cell_type": "code",
   "execution_count": 47,
   "id": "44690022",
   "metadata": {},
   "outputs": [
    {
     "name": "stdout",
     "output_type": "stream",
     "text": [
      "(1, 100)\n"
     ]
    }
   ],
   "source": [
    "test_processed = text_vectorization(raw_text)[np.newaxis, :]\n",
    "print(test_processed.shape)"
   ]
  },
  {
   "cell_type": "code",
   "execution_count": 48,
   "id": "fdbf07c0",
   "metadata": {},
   "outputs": [
    {
     "data": {
      "text/plain": [
       "array([[0.01976717]], dtype=float32)"
      ]
     },
     "execution_count": 48,
     "metadata": {},
     "output_type": "execute_result"
    }
   ],
   "source": [
    "model.predict(test_processed)"
   ]
  },
  {
   "cell_type": "code",
   "execution_count": null,
   "id": "18f4bd99",
   "metadata": {},
   "outputs": [],
   "source": [
    "\n"
   ]
  }
 ],
 "metadata": {
  "kernelspec": {
   "display_name": "Python 3",
   "language": "python",
   "name": "python3"
  },
  "language_info": {
   "codemirror_mode": {
    "name": "ipython",
    "version": 3
   },
   "file_extension": ".py",
   "mimetype": "text/x-python",
   "name": "python",
   "nbconvert_exporter": "python",
   "pygments_lexer": "ipython3",
   "version": "3.9.5"
  }
 },
 "nbformat": 4,
 "nbformat_minor": 5
}
